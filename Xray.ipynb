{
 "cells": [
  {
   "cell_type": "code",
   "execution_count": null,
   "id": "d78e9407",
   "metadata": {
    "_cell_guid": "b1076dfc-b9ad-4769-8c92-a6c4dae69d19",
    "_uuid": "8f2839f25d086af736a60e9eeb907d3b93b6e0e5",
    "execution": {
     "iopub.execute_input": "2023-08-12T04:15:09.871361Z",
     "iopub.status.busy": "2023-08-12T04:15:09.870539Z",
     "iopub.status.idle": "2023-08-12T04:15:09.878936Z",
     "shell.execute_reply": "2023-08-12T04:15:09.876990Z",
     "shell.execute_reply.started": "2023-08-12T04:15:09.871306Z"
    },
    "papermill": {
     "duration": null,
     "end_time": null,
     "exception": null,
     "start_time": null,
     "status": "pending"
    },
    "tags": []
   },
   "outputs": [],
   "source": [
    "# This Python 3 environment comes with many helpful analytics libraries installed\n",
    "# It is defined by the kaggle/python Docker image: https://github.com/kaggle/docker-python\n",
    "# For example, here's several helpful packages to load\n",
    "\n",
    "import numpy as np # linear algebra\n",
    "import pandas as pd # data processing, CSV file I/O (e.g. pd.read_csv)\n",
    "\n",
    "# Input data files are available in the read-only \"../input/\" directory\n",
    "# For example, running this (by clicking run or pressing Shift+Enter) will list all files under the input directory\n",
    "\n",
    "import os\n",
    "\n",
    "\n",
    "\n",
    "# You can write up to 20GB to the current directory (/kaggle/working/) that gets preserved as output when you create a version using \"Save & Run All\" \n",
    "# You can also write temporary files to /kaggle/temp/, but they won't be saved outside of the current session"
   ]
  },
  {
   "cell_type": "code",
   "execution_count": null,
   "id": "0f52d153",
   "metadata": {
    "execution": {
     "iopub.execute_input": "2023-08-12T04:15:09.882241Z",
     "iopub.status.busy": "2023-08-12T04:15:09.881822Z",
     "iopub.status.idle": "2023-08-12T04:15:09.902237Z",
     "shell.execute_reply": "2023-08-12T04:15:09.900747Z",
     "shell.execute_reply.started": "2023-08-12T04:15:09.882208Z"
    },
    "papermill": {
     "duration": null,
     "end_time": null,
     "exception": null,
     "start_time": null,
     "status": "pending"
    },
    "tags": []
   },
   "outputs": [],
   "source": [
    "import tensorflow as tf\n",
    "from tensorflow import keras\n",
    "from keras import Sequential\n",
    "from keras.layers import Dense,Conv2D,MaxPooling2D,Flatten,BatchNormalization,Dropout"
   ]
  },
  {
   "cell_type": "markdown",
   "id": "dc1807cc",
   "metadata": {
    "papermill": {
     "duration": null,
     "end_time": null,
     "exception": null,
     "start_time": null,
     "status": "pending"
    },
    "tags": []
   },
   "source": []
  },
  {
   "cell_type": "code",
   "execution_count": null,
   "id": "cf73db64",
   "metadata": {
    "execution": {
     "iopub.execute_input": "2023-08-12T04:15:09.904004Z",
     "iopub.status.busy": "2023-08-12T04:15:09.903638Z",
     "iopub.status.idle": "2023-08-12T04:15:10.381415Z",
     "shell.execute_reply": "2023-08-12T04:15:10.380414Z",
     "shell.execute_reply.started": "2023-08-12T04:15:09.903974Z"
    },
    "papermill": {
     "duration": null,
     "end_time": null,
     "exception": null,
     "start_time": null,
     "status": "pending"
    },
    "tags": []
   },
   "outputs": [],
   "source": [
    "# generators\n",
    "train_ds = keras.utils.image_dataset_from_directory(\n",
    "    directory = '/kaggle/input/bone-fracture-detection-using-xrays/archive (6)/train/',\n",
    "    labels='inferred',\n",
    "    label_mode = 'int',\n",
    "    batch_size=32,\n",
    "    image_size=(256,256)\n",
    ")\n",
    "\n",
    "validation_ds = keras.utils.image_dataset_from_directory(\n",
    "    directory ='/kaggle/input/bone-fracture-detection-using-xrays/archive (6)/val/',\n",
    "    labels='inferred',\n",
    "    label_mode = 'int',\n",
    "    batch_size=32,\n",
    "    image_size=(256,256)\n",
    ")"
   ]
  },
  {
   "cell_type": "code",
   "execution_count": null,
   "id": "e6dd67d5",
   "metadata": {
    "execution": {
     "iopub.execute_input": "2023-08-12T04:15:10.382830Z",
     "iopub.status.busy": "2023-08-12T04:15:10.382535Z",
     "iopub.status.idle": "2023-08-12T04:15:10.404892Z",
     "shell.execute_reply": "2023-08-12T04:15:10.404006Z",
     "shell.execute_reply.started": "2023-08-12T04:15:10.382808Z"
    },
    "papermill": {
     "duration": null,
     "end_time": null,
     "exception": null,
     "start_time": null,
     "status": "pending"
    },
    "tags": []
   },
   "outputs": [],
   "source": [
    "# Normalize\n",
    "def process(image,label):\n",
    "    image = tf.cast(image/255. ,tf.float32)\n",
    "    return image,label\n",
    "\n",
    "train_ds = train_ds.map(process)\n",
    "validation_ds = validation_ds.map(process)"
   ]
  },
  {
   "cell_type": "code",
   "execution_count": null,
   "id": "886dad20",
   "metadata": {
    "execution": {
     "iopub.execute_input": "2023-08-12T04:15:10.407681Z",
     "iopub.status.busy": "2023-08-12T04:15:10.407407Z",
     "iopub.status.idle": "2023-08-12T04:15:10.610619Z",
     "shell.execute_reply": "2023-08-12T04:15:10.609115Z",
     "shell.execute_reply.started": "2023-08-12T04:15:10.407659Z"
    },
    "papermill": {
     "duration": null,
     "end_time": null,
     "exception": null,
     "start_time": null,
     "status": "pending"
    },
    "tags": []
   },
   "outputs": [],
   "source": [
    "# create CNN model\n",
    "\n",
    "model = Sequential()\n",
    "\n",
    "model.add(Conv2D(32,kernel_size=(3,3),padding='valid',activation='relu',input_shape=(256,256,3)))\n",
    "model.add(BatchNormalization())\n",
    "model.add(MaxPooling2D(pool_size=(2,2),strides=2,padding='valid'))\n",
    "\n",
    "model.add(Conv2D(64,kernel_size=(3,3),padding='valid',activation='relu'))\n",
    "model.add(BatchNormalization())\n",
    "model.add(MaxPooling2D(pool_size=(2,2),strides=2,padding='valid'))\n",
    "\n",
    "model.add(Conv2D(128,kernel_size=(3,3),padding='valid',activation='relu'))\n",
    "model.add(BatchNormalization())\n",
    "model.add(MaxPooling2D(pool_size=(2,2),strides=2,padding='valid'))\n",
    "\n",
    "model.add(Flatten())\n",
    "\n",
    "model.add(Dense(128,activation='relu'))\n",
    "model.add(Dropout(0.1))\n",
    "model.add(Dense(64,activation='relu'))\n",
    "model.add(Dropout(0.1))\n",
    "model.add(Dense(1,activation='sigmoid'))"
   ]
  },
  {
   "cell_type": "code",
   "execution_count": null,
   "id": "798b2aea",
   "metadata": {
    "execution": {
     "iopub.execute_input": "2023-08-12T04:15:10.615412Z",
     "iopub.status.busy": "2023-08-12T04:15:10.614944Z",
     "iopub.status.idle": "2023-08-12T04:15:10.665438Z",
     "shell.execute_reply": "2023-08-12T04:15:10.664205Z",
     "shell.execute_reply.started": "2023-08-12T04:15:10.615357Z"
    },
    "papermill": {
     "duration": null,
     "end_time": null,
     "exception": null,
     "start_time": null,
     "status": "pending"
    },
    "tags": []
   },
   "outputs": [],
   "source": [
    "model.summary()"
   ]
  },
  {
   "cell_type": "code",
   "execution_count": null,
   "id": "45d28918",
   "metadata": {
    "execution": {
     "iopub.execute_input": "2023-08-12T04:15:10.666735Z",
     "iopub.status.busy": "2023-08-12T04:15:10.666423Z",
     "iopub.status.idle": "2023-08-12T04:15:10.680220Z",
     "shell.execute_reply": "2023-08-12T04:15:10.678687Z",
     "shell.execute_reply.started": "2023-08-12T04:15:10.666680Z"
    },
    "papermill": {
     "duration": null,
     "end_time": null,
     "exception": null,
     "start_time": null,
     "status": "pending"
    },
    "tags": []
   },
   "outputs": [],
   "source": [
    "model.compile(optimizer='adam',loss='binary_crossentropy',metrics=['accuracy'])"
   ]
  },
  {
   "cell_type": "code",
   "execution_count": null,
   "id": "0115d019",
   "metadata": {
    "execution": {
     "iopub.execute_input": "2023-08-12T04:15:10.682442Z",
     "iopub.status.busy": "2023-08-12T04:15:10.682024Z",
     "iopub.status.idle": "2023-08-12T05:07:03.369120Z",
     "shell.execute_reply": "2023-08-12T05:07:03.367587Z",
     "shell.execute_reply.started": "2023-08-12T04:15:10.682410Z"
    },
    "papermill": {
     "duration": null,
     "end_time": null,
     "exception": null,
     "start_time": null,
     "status": "pending"
    },
    "tags": []
   },
   "outputs": [],
   "source": [
    "history = model.fit(train_ds,epochs=5,validation_data=validation_ds)"
   ]
  },
  {
   "cell_type": "code",
   "execution_count": null,
   "id": "7ee3e63f",
   "metadata": {
    "execution": {
     "iopub.execute_input": "2023-08-12T05:07:03.371362Z",
     "iopub.status.busy": "2023-08-12T05:07:03.370938Z",
     "iopub.status.idle": "2023-08-12T05:07:03.577430Z",
     "shell.execute_reply": "2023-08-12T05:07:03.575637Z",
     "shell.execute_reply.started": "2023-08-12T05:07:03.371333Z"
    },
    "papermill": {
     "duration": null,
     "end_time": null,
     "exception": null,
     "start_time": null,
     "status": "pending"
    },
    "tags": []
   },
   "outputs": [],
   "source": [
    "import matplotlib.pyplot as plt\n",
    "\n",
    "plt.plot(history.history['accuracy'],color='red',label='train')\n",
    "plt.plot(history.history['val_accuracy'],color='blue',label='validation')\n",
    "plt.legend()\n",
    "plt.show()"
   ]
  },
  {
   "cell_type": "code",
   "execution_count": null,
   "id": "ad23bf80",
   "metadata": {
    "execution": {
     "iopub.execute_input": "2023-08-12T05:07:03.580149Z",
     "iopub.status.busy": "2023-08-12T05:07:03.579310Z",
     "iopub.status.idle": "2023-08-12T05:07:03.803482Z",
     "shell.execute_reply": "2023-08-12T05:07:03.802107Z",
     "shell.execute_reply.started": "2023-08-12T05:07:03.580107Z"
    },
    "papermill": {
     "duration": null,
     "end_time": null,
     "exception": null,
     "start_time": null,
     "status": "pending"
    },
    "tags": []
   },
   "outputs": [],
   "source": [
    "plt.plot(history.history['accuracy'],color='red',label='train')\n",
    "plt.plot(history.history['val_accuracy'],color='blue',label='validation')\n",
    "plt.legend()\n",
    "plt.show()"
   ]
  },
  {
   "cell_type": "code",
   "execution_count": null,
   "id": "480d60e4",
   "metadata": {
    "execution": {
     "iopub.execute_input": "2023-08-12T05:07:03.805075Z",
     "iopub.status.busy": "2023-08-12T05:07:03.804812Z",
     "iopub.status.idle": "2023-08-12T05:07:03.994697Z",
     "shell.execute_reply": "2023-08-12T05:07:03.993780Z",
     "shell.execute_reply.started": "2023-08-12T05:07:03.805052Z"
    },
    "papermill": {
     "duration": null,
     "end_time": null,
     "exception": null,
     "start_time": null,
     "status": "pending"
    },
    "tags": []
   },
   "outputs": [],
   "source": [
    "plt.plot(history.history['loss'],color='red',label='train')\n",
    "plt.plot(history.history['val_loss'],color='blue',label='validation')\n",
    "plt.legend()\n",
    "plt.show()"
   ]
  },
  {
   "cell_type": "code",
   "execution_count": null,
   "id": "0c1d45db",
   "metadata": {
    "execution": {
     "iopub.execute_input": "2023-08-12T05:07:03.997102Z",
     "iopub.status.busy": "2023-08-12T05:07:03.995925Z",
     "iopub.status.idle": "2023-08-12T05:07:04.002862Z",
     "shell.execute_reply": "2023-08-12T05:07:04.001369Z",
     "shell.execute_reply.started": "2023-08-12T05:07:03.997066Z"
    },
    "papermill": {
     "duration": null,
     "end_time": null,
     "exception": null,
     "start_time": null,
     "status": "pending"
    },
    "tags": []
   },
   "outputs": [],
   "source": [
    "import cv2"
   ]
  },
  {
   "cell_type": "code",
   "execution_count": null,
   "id": "1d8b4b6d",
   "metadata": {
    "execution": {
     "iopub.execute_input": "2023-08-12T05:22:13.295192Z",
     "iopub.status.busy": "2023-08-12T05:22:13.294451Z",
     "iopub.status.idle": "2023-08-12T05:22:13.302130Z",
     "shell.execute_reply": "2023-08-12T05:22:13.300962Z",
     "shell.execute_reply.started": "2023-08-12T05:22:13.295141Z"
    },
    "papermill": {
     "duration": null,
     "end_time": null,
     "exception": null,
     "start_time": null,
     "status": "pending"
    },
    "tags": []
   },
   "outputs": [],
   "source": [
    "test_img = cv2.imread('/kaggle/input/bone-fracture-detection-using-xrays/archive (6)/train/not fractured/10-rotated1-rotated3-rotated1.jpg')"
   ]
  },
  {
   "cell_type": "code",
   "execution_count": null,
   "id": "e27af4ec",
   "metadata": {
    "execution": {
     "iopub.execute_input": "2023-08-12T05:22:15.214549Z",
     "iopub.status.busy": "2023-08-12T05:22:15.213439Z",
     "iopub.status.idle": "2023-08-12T05:22:15.442845Z",
     "shell.execute_reply": "2023-08-12T05:22:15.441428Z",
     "shell.execute_reply.started": "2023-08-12T05:22:15.214500Z"
    },
    "papermill": {
     "duration": null,
     "end_time": null,
     "exception": null,
     "start_time": null,
     "status": "pending"
    },
    "tags": []
   },
   "outputs": [],
   "source": [
    "plt.imshow(test_img)"
   ]
  },
  {
   "cell_type": "code",
   "execution_count": null,
   "id": "91666bb2",
   "metadata": {
    "execution": {
     "iopub.execute_input": "2023-08-12T05:22:18.184179Z",
     "iopub.status.busy": "2023-08-12T05:22:18.183683Z",
     "iopub.status.idle": "2023-08-12T05:22:18.193686Z",
     "shell.execute_reply": "2023-08-12T05:22:18.192017Z",
     "shell.execute_reply.started": "2023-08-12T05:22:18.184139Z"
    },
    "papermill": {
     "duration": null,
     "end_time": null,
     "exception": null,
     "start_time": null,
     "status": "pending"
    },
    "tags": []
   },
   "outputs": [],
   "source": [
    "test_img.shape"
   ]
  },
  {
   "cell_type": "code",
   "execution_count": null,
   "id": "c7808fcc",
   "metadata": {
    "execution": {
     "iopub.execute_input": "2023-08-12T05:22:19.904147Z",
     "iopub.status.busy": "2023-08-12T05:22:19.903774Z",
     "iopub.status.idle": "2023-08-12T05:22:19.912245Z",
     "shell.execute_reply": "2023-08-12T05:22:19.909378Z",
     "shell.execute_reply.started": "2023-08-12T05:22:19.904117Z"
    },
    "papermill": {
     "duration": null,
     "end_time": null,
     "exception": null,
     "start_time": null,
     "status": "pending"
    },
    "tags": []
   },
   "outputs": [],
   "source": [
    "test_img = cv2.resize(test_img,(256,256))"
   ]
  },
  {
   "cell_type": "code",
   "execution_count": null,
   "id": "6aafdd14",
   "metadata": {
    "execution": {
     "iopub.execute_input": "2023-08-12T05:22:21.943896Z",
     "iopub.status.busy": "2023-08-12T05:22:21.943516Z",
     "iopub.status.idle": "2023-08-12T05:22:21.950200Z",
     "shell.execute_reply": "2023-08-12T05:22:21.949000Z",
     "shell.execute_reply.started": "2023-08-12T05:22:21.943863Z"
    },
    "papermill": {
     "duration": null,
     "end_time": null,
     "exception": null,
     "start_time": null,
     "status": "pending"
    },
    "tags": []
   },
   "outputs": [],
   "source": [
    "test_input = test_img.reshape((1,256,256,3))"
   ]
  },
  {
   "cell_type": "code",
   "execution_count": null,
   "id": "56e646b6",
   "metadata": {
    "execution": {
     "iopub.execute_input": "2023-08-12T05:22:24.434989Z",
     "iopub.status.busy": "2023-08-12T05:22:24.434556Z",
     "iopub.status.idle": "2023-08-12T05:22:24.533981Z",
     "shell.execute_reply": "2023-08-12T05:22:24.532237Z",
     "shell.execute_reply.started": "2023-08-12T05:22:24.434951Z"
    },
    "papermill": {
     "duration": null,
     "end_time": null,
     "exception": null,
     "start_time": null,
     "status": "pending"
    },
    "tags": []
   },
   "outputs": [],
   "source": [
    "model.predict(test_input)"
   ]
  },
  {
   "cell_type": "code",
   "execution_count": null,
   "id": "730be5c1",
   "metadata": {
    "papermill": {
     "duration": null,
     "end_time": null,
     "exception": null,
     "start_time": null,
     "status": "pending"
    },
    "tags": []
   },
   "outputs": [],
   "source": []
  }
 ],
 "metadata": {
  "kernelspec": {
   "display_name": "Python 3",
   "language": "python",
   "name": "python3"
  },
  "language_info": {
   "codemirror_mode": {
    "name": "ipython",
    "version": 3
   },
   "file_extension": ".py",
   "mimetype": "text/x-python",
   "name": "python",
   "nbconvert_exporter": "python",
   "pygments_lexer": "ipython3",
   "version": "3.6.4"
  },
  "papermill": {
   "default_parameters": {},
   "duration": null,
   "end_time": null,
   "environment_variables": {},
   "exception": null,
   "input_path": "__notebook__.ipynb",
   "output_path": "__notebook__.ipynb",
   "parameters": {},
   "start_time": "2023-08-12T05:24:16.186208",
   "version": "2.4.0"
  }
 },
 "nbformat": 4,
 "nbformat_minor": 5
}