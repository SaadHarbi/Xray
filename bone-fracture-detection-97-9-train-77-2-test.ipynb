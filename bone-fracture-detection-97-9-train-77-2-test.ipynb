{
  "metadata": {
    "papermill": {
      "default_parameters": {},
      "duration": 698.135457,
      "end_time": "2023-05-19T01:10:46.563423",
      "environment_variables": {},
      "exception": null,
      "input_path": "__notebook__.ipynb",
      "output_path": "__notebook__.ipynb",
      "parameters": {},
      "start_time": "2023-05-19T00:59:08.427966",
      "version": "2.4.0"
    },
    "kernelspec": {
      "name": "python",
      "display_name": "Python (Pyodide)",
      "language": "python"
    },
    "language_info": {
      "codemirror_mode": {
        "name": "python",
        "version": 3
      },
      "file_extension": ".py",
      "mimetype": "text/x-python",
      "name": "python",
      "nbconvert_exporter": "python",
      "pygments_lexer": "ipython3",
      "version": "3.8"
    }
  },
  "nbformat_minor": 5,
  "nbformat": 4,
  "cells": [
    {
      "cell_type": "markdown",
      "source": "# NOTE\n\nThe following code was created with reference to https://www.kaggle.com/code/vuppalaadithyasairam/baseline-cnn-for-radial-fracture-prediction\n,special thanks",
      "metadata": {
        "papermill": {
          "duration": 0.007337,
          "end_time": "2023-05-19T00:59:19.326620",
          "exception": false,
          "start_time": "2023-05-19T00:59:19.319283",
          "status": "completed"
        },
        "tags": []
      },
      "id": "7a2d539c"
    },
    {
      "cell_type": "code",
      "source": "# This Python 3 environment comes with many helpful analytics libraries installed\n# It is defined by the kaggle/python Docker image: https://github.com/kaggle/docker-python\n# For example, here's several helpful packages to load\n\nimport numpy as np # linear algebra\nimport pandas as pd # data processing, CSV file I/O (e.g. pd.read_csv)\nfrom keras.preprocessing.image import ImageDataGenerator",
      "metadata": {
        "_cell_guid": "b1076dfc-b9ad-4769-8c92-a6c4dae69d19",
        "_uuid": "8f2839f25d086af736a60e9eeb907d3b93b6e0e5",
        "execution": {
          "iopub.execute_input": "2023-05-19T00:59:19.339127Z",
          "iopub.status.busy": "2023-05-19T00:59:19.338716Z",
          "iopub.status.idle": "2023-05-19T00:59:25.227194Z",
          "shell.execute_reply": "2023-05-19T00:59:25.225827Z"
        },
        "papermill": {
          "duration": 5.899216,
          "end_time": "2023-05-19T00:59:25.231451",
          "exception": false,
          "start_time": "2023-05-19T00:59:19.332235",
          "status": "completed"
        },
        "tags": []
      },
      "execution_count": 1,
      "outputs": [
        {
          "name": "stderr",
          "output_type": "stream",
          "text": "/opt/conda/lib/python3.10/site-packages/scipy/__init__.py:146: UserWarning: A NumPy version >=1.16.5 and <1.23.0 is required for this version of SciPy (detected version 1.23.5\n\n  warnings.warn(f\"A NumPy version >={np_minversion} and <{np_maxversion}\"\n"
        }
      ],
      "id": "877976ec"
    },
    {
      "cell_type": "code",
      "source": "generator = ImageDataGenerator(\n    rescale = 1./255,\n    validation_split = 0.2\n)",
      "metadata": {
        "execution": {
          "iopub.execute_input": "2023-05-19T00:59:25.250312Z",
          "iopub.status.busy": "2023-05-19T00:59:25.249751Z",
          "iopub.status.idle": "2023-05-19T00:59:25.254332Z",
          "shell.execute_reply": "2023-05-19T00:59:25.253485Z"
        },
        "papermill": {
          "duration": 0.013002,
          "end_time": "2023-05-19T00:59:25.256202",
          "exception": false,
          "start_time": "2023-05-19T00:59:25.243200",
          "status": "completed"
        },
        "tags": []
      },
      "execution_count": 2,
      "outputs": [],
      "id": "6b8071bd"
    },
    {
      "cell_type": "code",
      "source": "Train_generator = generator.flow_from_directory(\n    \"/kaggle/input/bone-fracture-detection-using-xrays/archive (6)/train\",\n    target_size = (224, 224),\n    batch_size = 16,\n    class_mode =\"binary\",\n    subset = \"training\" \n)\n\nValidation_generator = generator.flow_from_directory(\n    \"/kaggle/input/bone-fracture-detection-using-xrays/archive (6)/train\",\n    target_size = (224, 224),\n    batch_size = 16,\n    class_mode =\"binary\",\n    subset = \"validation\" \n)",
      "metadata": {
        "execution": {
          "iopub.execute_input": "2023-05-19T00:59:25.268562Z",
          "iopub.status.busy": "2023-05-19T00:59:25.267199Z",
          "iopub.status.idle": "2023-05-19T00:59:34.278123Z",
          "shell.execute_reply": "2023-05-19T00:59:34.277204Z"
        },
        "papermill": {
          "duration": 9.019146,
          "end_time": "2023-05-19T00:59:34.280500",
          "exception": false,
          "start_time": "2023-05-19T00:59:25.261354",
          "status": "completed"
        },
        "tags": []
      },
      "execution_count": 3,
      "outputs": [
        {
          "name": "stdout",
          "output_type": "stream",
          "text": "Found 7091 images belonging to 2 classes.\n\nFound 1772 images belonging to 2 classes.\n"
        }
      ],
      "id": "bf556780"
    },
    {
      "cell_type": "code",
      "source": "Train_generator.next()[0].shape",
      "metadata": {
        "execution": {
          "iopub.execute_input": "2023-05-19T00:59:34.293633Z",
          "iopub.status.busy": "2023-05-19T00:59:34.292806Z",
          "iopub.status.idle": "2023-05-19T00:59:34.416012Z",
          "shell.execute_reply": "2023-05-19T00:59:34.415006Z"
        },
        "papermill": {
          "duration": 0.132267,
          "end_time": "2023-05-19T00:59:34.418565",
          "exception": false,
          "start_time": "2023-05-19T00:59:34.286298",
          "status": "completed"
        },
        "tags": []
      },
      "execution_count": 4,
      "outputs": [
        {
          "execution_count": 4,
          "output_type": "execute_result",
          "data": {
            "text/plain": [
              "(16, 224, 224, 3)"
            ]
          },
          "metadata": {}
        }
      ],
      "id": "8e62dd9b"
    },
    {
      "cell_type": "code",
      "source": "Validation_generator.next()[0].shape",
      "metadata": {
        "execution": {
          "iopub.execute_input": "2023-05-19T00:59:34.431607Z",
          "iopub.status.busy": "2023-05-19T00:59:34.431322Z",
          "iopub.status.idle": "2023-05-19T00:59:34.539891Z",
          "shell.execute_reply": "2023-05-19T00:59:34.538687Z"
        },
        "papermill": {
          "duration": 0.117723,
          "end_time": "2023-05-19T00:59:34.542626",
          "exception": false,
          "start_time": "2023-05-19T00:59:34.424903",
          "status": "completed"
        },
        "tags": []
      },
      "execution_count": 5,
      "outputs": [
        {
          "execution_count": 5,
          "output_type": "execute_result",
          "data": {
            "text/plain": [
              "(16, 224, 224, 3)"
            ]
          },
          "metadata": {}
        }
      ],
      "id": "0a127078"
    },
    {
      "cell_type": "code",
      "source": "from tensorflow import keras",
      "metadata": {
        "execution": {
          "iopub.execute_input": "2023-05-19T00:59:34.558285Z",
          "iopub.status.busy": "2023-05-19T00:59:34.557431Z",
          "iopub.status.idle": "2023-05-19T00:59:34.563087Z",
          "shell.execute_reply": "2023-05-19T00:59:34.562206Z"
        },
        "papermill": {
          "duration": 0.015118,
          "end_time": "2023-05-19T00:59:34.565120",
          "exception": false,
          "start_time": "2023-05-19T00:59:34.550002",
          "status": "completed"
        },
        "tags": []
      },
      "execution_count": 6,
      "outputs": [],
      "id": "d8e20aa4"
    },
    {
      "cell_type": "markdown",
      "source": "Retrain the Xception Model without any layer freezing. ",
      "metadata": {
        "papermill": {
          "duration": 0.006047,
          "end_time": "2023-05-19T00:59:34.577234",
          "exception": false,
          "start_time": "2023-05-19T00:59:34.571187",
          "status": "completed"
        },
        "tags": []
      },
      "id": "069d8298"
    },
    {
      "cell_type": "code",
      "source": "base_model = keras.applications.Xception(\n    weights=None, \n    input_shape=(224, 224, 3),\n    include_top=False)",
      "metadata": {
        "execution": {
          "iopub.execute_input": "2023-05-19T00:59:34.592558Z",
          "iopub.status.busy": "2023-05-19T00:59:34.590950Z",
          "iopub.status.idle": "2023-05-19T00:59:38.145129Z",
          "shell.execute_reply": "2023-05-19T00:59:38.144214Z"
        },
        "papermill": {
          "duration": 3.563847,
          "end_time": "2023-05-19T00:59:38.147438",
          "exception": false,
          "start_time": "2023-05-19T00:59:34.583591",
          "status": "completed"
        },
        "tags": []
      },
      "execution_count": 7,
      "outputs": [],
      "id": "0f02ec26"
    },
    {
      "cell_type": "code",
      "source": "base_model.trainable = True",
      "metadata": {
        "execution": {
          "iopub.execute_input": "2023-05-19T00:59:38.161833Z",
          "iopub.status.busy": "2023-05-19T00:59:38.160141Z",
          "iopub.status.idle": "2023-05-19T00:59:38.169470Z",
          "shell.execute_reply": "2023-05-19T00:59:38.168600Z"
        },
        "papermill": {
          "duration": 0.018081,
          "end_time": "2023-05-19T00:59:38.171478",
          "exception": false,
          "start_time": "2023-05-19T00:59:38.153397",
          "status": "completed"
        },
        "tags": []
      },
      "execution_count": 8,
      "outputs": [],
      "id": "afec8b86"
    },
    {
      "cell_type": "code",
      "source": "inputs = keras.Input(shape=(224, 224, 3))\n\nx = base_model(inputs, training=True)\nx = keras.layers.GaussianNoise(0.25)(x)\nx = keras.layers.GlobalAveragePooling2D()(x)\nx = keras.layers.Dense(512,activation='relu')(x)\nx = keras.layers.BatchNormalization()(x)\nx = keras.layers.GaussianNoise(0.25)(x)\nx = keras.layers.Dropout(0.25)(x)\noutputs = keras.layers.Dense(1, activation = \"sigmoid\")(x)\nmodel = keras.Model(inputs, outputs)",
      "metadata": {
        "execution": {
          "iopub.execute_input": "2023-05-19T00:59:38.183940Z",
          "iopub.status.busy": "2023-05-19T00:59:38.183648Z",
          "iopub.status.idle": "2023-05-19T00:59:38.604445Z",
          "shell.execute_reply": "2023-05-19T00:59:38.603521Z"
        },
        "papermill": {
          "duration": 0.430052,
          "end_time": "2023-05-19T00:59:38.607013",
          "exception": false,
          "start_time": "2023-05-19T00:59:38.176961",
          "status": "completed"
        },
        "tags": []
      },
      "execution_count": 9,
      "outputs": [],
      "id": "cae580f1"
    },
    {
      "cell_type": "code",
      "source": "from keras import callbacks",
      "metadata": {
        "execution": {
          "iopub.execute_input": "2023-05-19T00:59:38.621155Z",
          "iopub.status.busy": "2023-05-19T00:59:38.620863Z",
          "iopub.status.idle": "2023-05-19T00:59:38.624707Z",
          "shell.execute_reply": "2023-05-19T00:59:38.623839Z"
        },
        "papermill": {
          "duration": 0.012831,
          "end_time": "2023-05-19T00:59:38.626810",
          "exception": false,
          "start_time": "2023-05-19T00:59:38.613979",
          "status": "completed"
        },
        "tags": []
      },
      "execution_count": 10,
      "outputs": [],
      "id": "8510a498"
    },
    {
      "cell_type": "code",
      "source": "earlyStopping = keras.callbacks.EarlyStopping(\n    patience=7,\n)\n\ncheckpoint_filepath = '/tmp/checkpoint'\nmodel_checkpoint_callback = keras.callbacks.ModelCheckpoint(\n    filepath=checkpoint_filepath,\n    monitor='val_accuracy',\n    mode='max',\n    save_best_only=True)",
      "metadata": {
        "execution": {
          "iopub.execute_input": "2023-05-19T00:59:38.639744Z",
          "iopub.status.busy": "2023-05-19T00:59:38.639400Z",
          "iopub.status.idle": "2023-05-19T00:59:38.644373Z",
          "shell.execute_reply": "2023-05-19T00:59:38.643415Z"
        },
        "papermill": {
          "duration": 0.013505,
          "end_time": "2023-05-19T00:59:38.646260",
          "exception": false,
          "start_time": "2023-05-19T00:59:38.632755",
          "status": "completed"
        },
        "tags": []
      },
      "execution_count": 11,
      "outputs": [],
      "id": "e9217e73"
    },
    {
      "cell_type": "code",
      "source": "model.compile(optimizer=\"adam\",\n              loss=\"binary_crossentropy\",\n              metrics=[\"accuracy\"])",
      "metadata": {
        "execution": {
          "iopub.execute_input": "2023-05-19T00:59:38.659825Z",
          "iopub.status.busy": "2023-05-19T00:59:38.658243Z",
          "iopub.status.idle": "2023-05-19T00:59:38.678353Z",
          "shell.execute_reply": "2023-05-19T00:59:38.677447Z"
        },
        "papermill": {
          "duration": 0.028859,
          "end_time": "2023-05-19T00:59:38.680646",
          "exception": false,
          "start_time": "2023-05-19T00:59:38.651787",
          "status": "completed"
        },
        "tags": []
      },
      "execution_count": 12,
      "outputs": [],
      "id": "1dc67e81"
    },
    {
      "cell_type": "code",
      "source": "model.fit(Train_generator, epochs=20, \n          callbacks=[earlyStopping,model_checkpoint_callback ],\n          validation_data=Validation_generator)",
      "metadata": {
        "execution": {
          "iopub.execute_input": "2023-05-19T00:59:38.694561Z",
          "iopub.status.busy": "2023-05-19T00:59:38.693234Z",
          "iopub.status.idle": "2023-05-19T01:10:35.323250Z",
          "shell.execute_reply": "2023-05-19T01:10:35.322304Z"
        },
        "papermill": {
          "duration": 656.908785,
          "end_time": "2023-05-19T01:10:35.595303",
          "exception": false,
          "start_time": "2023-05-19T00:59:38.686518",
          "status": "completed"
        },
        "tags": []
      },
      "execution_count": 13,
      "outputs": [
        {
          "name": "stdout",
          "output_type": "stream",
          "text": "Epoch 1/20\n\n444/444 [==============================] - 135s 234ms/step - loss: 0.6446 - accuracy: 0.6552 - val_loss: 0.7023 - val_accuracy: 0.6620\n\nEpoch 2/20\n\n444/444 [==============================] - 71s 159ms/step - loss: 0.3695 - accuracy: 0.8443 - val_loss: 1.2254 - val_accuracy: 0.5418\n\nEpoch 3/20\n\n444/444 [==============================] - 71s 159ms/step - loss: 0.1909 - accuracy: 0.9277 - val_loss: 1.2328 - val_accuracy: 0.5756\n\nEpoch 4/20\n\n444/444 [==============================] - 71s 159ms/step - loss: 0.1193 - accuracy: 0.9595 - val_loss: 2.1279 - val_accuracy: 0.5102\n\nEpoch 5/20\n\n444/444 [==============================] - 71s 159ms/step - loss: 0.0909 - accuracy: 0.9698 - val_loss: 2.1228 - val_accuracy: 0.5023\n\nEpoch 6/20\n\n444/444 [==============================] - 74s 167ms/step - loss: 0.1548 - accuracy: 0.9427 - val_loss: 1.4969 - val_accuracy: 0.5801\n\nEpoch 7/20\n\n444/444 [==============================] - 73s 164ms/step - loss: 0.0776 - accuracy: 0.9728 - val_loss: 1.5724 - val_accuracy: 0.5700\n\nEpoch 8/20\n\n444/444 [==============================] - 73s 164ms/step - loss: 0.0632 - accuracy: 0.9781 - val_loss: 1.8306 - val_accuracy: 0.5965\n"
        },
        {
          "execution_count": 13,
          "output_type": "execute_result",
          "data": {
            "text/plain": [
              "<keras.callbacks.History at 0x79dda8427460>"
            ]
          },
          "metadata": {}
        }
      ],
      "id": "2b110dd9"
    },
    {
      "cell_type": "code",
      "source": "model.save(\"Test Model 2.h5\")",
      "metadata": {
        "execution": {
          "iopub.execute_input": "2023-05-19T01:10:36.136753Z",
          "iopub.status.busy": "2023-05-19T01:10:36.136362Z",
          "iopub.status.idle": "2023-05-19T01:10:36.937688Z",
          "shell.execute_reply": "2023-05-19T01:10:36.936749Z"
        },
        "papermill": {
          "duration": 1.076292,
          "end_time": "2023-05-19T01:10:36.940194",
          "exception": false,
          "start_time": "2023-05-19T01:10:35.863902",
          "status": "completed"
        },
        "tags": []
      },
      "execution_count": 14,
      "outputs": [],
      "id": "48994f32"
    },
    {
      "cell_type": "code",
      "source": "Test_Generator = generator.flow_from_directory(\n    \"/kaggle/input/bone-fracture-detection-using-xrays/archive (6)/val\",\n    target_size = (224, 224),\n    batch_size = 16,\n    class_mode =\"binary\",\n    subset = \"training\" \n)",
      "metadata": {
        "execution": {
          "iopub.execute_input": "2023-05-19T01:10:37.534814Z",
          "iopub.status.busy": "2023-05-19T01:10:37.534447Z",
          "iopub.status.idle": "2023-05-19T01:10:37.684791Z",
          "shell.execute_reply": "2023-05-19T01:10:37.683902Z"
        },
        "papermill": {
          "duration": 0.470499,
          "end_time": "2023-05-19T01:10:37.686858",
          "exception": false,
          "start_time": "2023-05-19T01:10:37.216359",
          "status": "completed"
        },
        "tags": []
      },
      "execution_count": 15,
      "outputs": [
        {
          "name": "stdout",
          "output_type": "stream",
          "text": "Found 480 images belonging to 2 classes.\n"
        }
      ],
      "id": "1199db7e"
    },
    {
      "cell_type": "code",
      "source": "model.evaluate(Test_Generator)",
      "metadata": {
        "execution": {
          "iopub.execute_input": "2023-05-19T01:10:38.225322Z",
          "iopub.status.busy": "2023-05-19T01:10:38.224969Z",
          "iopub.status.idle": "2023-05-19T01:10:42.145380Z",
          "shell.execute_reply": "2023-05-19T01:10:42.144207Z"
        },
        "papermill": {
          "duration": 4.193494,
          "end_time": "2023-05-19T01:10:42.147579",
          "exception": false,
          "start_time": "2023-05-19T01:10:37.954085",
          "status": "completed"
        },
        "tags": []
      },
      "execution_count": 16,
      "outputs": [
        {
          "name": "stdout",
          "output_type": "stream",
          "text": "30/30 [==============================] - 4s 123ms/step - loss: 1.6811 - accuracy: 0.6979\n"
        },
        {
          "execution_count": 16,
          "output_type": "execute_result",
          "data": {
            "text/plain": [
              "[1.681113600730896, 0.6979166865348816]"
            ]
          },
          "metadata": {}
        }
      ],
      "id": "6f08576d"
    },
    {
      "cell_type": "code",
      "source": "",
      "metadata": {
        "papermill": {
          "duration": 0.273165,
          "end_time": "2023-05-19T01:10:42.698652",
          "exception": false,
          "start_time": "2023-05-19T01:10:42.425487",
          "status": "completed"
        },
        "tags": []
      },
      "execution_count": null,
      "outputs": [],
      "id": "b99b61f1"
    }
  ]
}